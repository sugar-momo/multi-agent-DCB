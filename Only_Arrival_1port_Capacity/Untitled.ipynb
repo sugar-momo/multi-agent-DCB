{
 "cells": [
  {
   "cell_type": "code",
   "execution_count": null,
   "id": "a81e9554",
   "metadata": {},
   "outputs": [],
   "source": [
    "def graph(data_name, title):\n",
    "    data = data_name\n",
    "    fig = plt.figure(figsize=(9,7))\n",
    "    ax = fig.add_subplot(111)\n",
    "    x = np.arange(10800)\n",
    "\n",
    "    #ax.set_aspect('equal')      \n",
    "\n",
    "    ax.set_xlim(0, 10800)                  \n",
    "    ax.set_ylim(0, 5) \n",
    "    \n",
    "    ax.set_xlabel(\"time [s]\",fontsize=23)                 \n",
    "    ax.set_ylabel(\"number of aircraft in mid air\",fontsize=23)\n",
    "\n",
    "    ax.set_xticks(np.linspace(0, 10000, 5))\n",
    "    ax.set_yticks(np.linspace(0, 5, 6))\n",
    "    plt.tick_params(labelsize=20)\n",
    "\n",
    "    plt.title(title, fontsize=24)\n",
    "    plt.grid(True)\n",
    "    plt.rcParams['font.family'] = 'Times New Roman' # Fonts\n",
    "    plt.plot(x, data[:,0], marker=\"o\", markersize=1, color='tab:blue', label='RUATM A')\n",
    "    plt.plot(x, data[:,1], marker=\"o\", markersize=1, color='tab:orange', label='RUATM B')\n",
    "    plt.plot(x, data[:,2], marker=\"o\", markersize=1, color='tab:green', label='RUATM C')\n",
    "    #plt.plot(x, data[:,0]+data[:,1]+data[:,2], marker=\"o\", markersize=1, color='tab:red', label='RUATM D')\n",
    "\n",
    "    ax.legend(bbox_to_anchor=(1, 1), loc='upper right', fontsize=15)\n",
    "\n",
    "    flight_png = \"data/\" + title + f\"_{seed}\" + f\"_result_{datetime.now():%Y%m%d%H%M%S}.png\"\n",
    "    #plt.savefig(flight_png)\n",
    "    plt.show()"
   ]
  }
 ],
 "metadata": {
  "kernelspec": {
   "display_name": "Python 3 (ipykernel)",
   "language": "python",
   "name": "python3"
  },
  "language_info": {
   "codemirror_mode": {
    "name": "ipython",
    "version": 3
   },
   "file_extension": ".py",
   "mimetype": "text/x-python",
   "name": "python",
   "nbconvert_exporter": "python",
   "pygments_lexer": "ipython3",
   "version": "3.10.9"
  }
 },
 "nbformat": 4,
 "nbformat_minor": 5
}
