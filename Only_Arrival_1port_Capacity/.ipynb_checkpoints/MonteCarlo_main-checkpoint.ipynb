{
 "cells": [
  {
   "cell_type": "code",
   "execution_count": 1,
   "id": "99688bd9",
   "metadata": {},
   "outputs": [],
   "source": [
    "import sys\n",
    "sys.path.append('scripts/')\n",
    "from DCB_Simulation import *\n",
    "from FPLmaker_arr_only import *\n",
    "from graph import *\n",
    "from importlib import reload # >= python 3.4\n",
    "\n",
    "\n",
    "seed = 303\n",
    "random.seed(seed)\n",
    "\n",
    "\n",
    "#2024/1/29　修正　delayの与え方を変更: delay = t→t+1"
   ]
  },
  {
   "cell_type": "code",
   "execution_count": null,
   "id": "20355e25",
   "metadata": {},
   "outputs": [
    {
     "name": "stdout",
     "output_type": "stream",
     "text": [
      "0\n"
     ]
    }
   ],
   "source": [
    "%%time\n",
    "#                                                    montecarlo simulation\n",
    "\n",
    "flight_num = 36\n",
    "sim_time = 10800\n",
    "max_flight_time = 3600\n",
    "ruatm_num = 3\n",
    "bin_size = 9*60 #　秒で記入\n",
    "capa = 3\n",
    "ruatm_id = np.array([0, 1, 2])\n",
    "dcb = DCB(np.array([10, 10, 10, 10]))\n",
    "\n",
    "#delay_all = np.zeros((0, len(ruatm_id)+1))\n",
    "delay_summary_centralized = np.zeros((0, len(ruatm_id)*3))\n",
    "\n",
    "for i in range(10):\n",
    "    print(i)\n",
    "    f = FlightPlan([0,1,2], sim_time, max_flight_time, flight_num)\n",
    "    fpl_data = f.making_fpl()\n",
    "\n",
    "    ac = ArrCheck(fpl_data, ruatm_num, sim_time)\n",
    "    vport_flight_data, vport_ruatm_data = ac.flight(flight_num)\n",
    "    vport_bin_data = ac.demand_calc(vport_ruatm_data, bin_size)\n",
    "    \n",
    "    #DCB実行　Centralized\n",
    "    delayed_fpl_data, delayed_bin_data = dcb.centralized_fcfs(ruatm_id, capa, sim_time, flight_num, vport_bin_data, bin_size, fpl_data)\n",
    "    \n",
    "    delay_summary_centralized = np.append(delay_summary_centralized, dcb.delay_summary.reshape(1, len(ruatm_id)*3), axis=0)\n",
    "    #delay_all = np.append(delay_all, dcb.delay_memo, axis=0)\n",
    "    #delay_all = np.append(delay_all, np.zeros((1, len(ruatm_id)+1)), axis=0)"
   ]
  },
  {
   "cell_type": "code",
   "execution_count": 2,
   "id": "318036f2",
   "metadata": {},
   "outputs": [
    {
     "name": "stdout",
     "output_type": "stream",
     "text": [
      "0\n",
      "2.0\n"
     ]
    },
    {
     "ename": "NameError",
     "evalue": "name 'flight_num' is not defined",
     "output_type": "error",
     "traceback": [
      "\u001b[1;31m---------------------------------------------------------------------------\u001b[0m",
      "\u001b[1;31mNameError\u001b[0m                                 Traceback (most recent call last)",
      "File \u001b[1;32m<timed exec>:25\u001b[0m\n",
      "File \u001b[1;32m~\\Desktop\\MultiAgentDCB\\Airport Capacity\\scripts\\DCB_Simulation.py:129\u001b[0m, in \u001b[0;36mDCB.distributed_fcfs\u001b[1;34m(self, ruatm_id, capacity, sim_time, bin_data, bin_size, fpl)\u001b[0m\n\u001b[0;32m    126\u001b[0m             \u001b[38;5;28mself\u001b[39m\u001b[38;5;241m.\u001b[39mchange_count \u001b[38;5;241m+\u001b[39m\u001b[38;5;241m=\u001b[39m \u001b[38;5;241m1\u001b[39m\n\u001b[0;32m    128\u001b[0m         delayed_ac \u001b[38;5;241m=\u001b[39m ArrCheck(\u001b[38;5;28mself\u001b[39m\u001b[38;5;241m.\u001b[39mfpl, \u001b[38;5;28mself\u001b[39m\u001b[38;5;241m.\u001b[39mruatm_num, \u001b[38;5;28mself\u001b[39m\u001b[38;5;241m.\u001b[39msim_time)\n\u001b[1;32m--> 129\u001b[0m         delayed_vport_flight_data, delayed_vport_ruatm_data \u001b[38;5;241m=\u001b[39m delayed_ac\u001b[38;5;241m.\u001b[39mflight(\u001b[43mflight_num\u001b[49m)\n\u001b[0;32m    130\u001b[0m         \u001b[38;5;28mself\u001b[39m\u001b[38;5;241m.\u001b[39mbin_data \u001b[38;5;241m=\u001b[39m delayed_ac\u001b[38;5;241m.\u001b[39mdemand_calc(delayed_vport_ruatm_data, bin_size)\n\u001b[0;32m    132\u001b[0m \u001b[38;5;28mself\u001b[39m\u001b[38;5;241m.\u001b[39mdelay_summary \u001b[38;5;241m=\u001b[39m np\u001b[38;5;241m.\u001b[39mzeros(\u001b[38;5;241m3\u001b[39m)\n",
      "\u001b[1;31mNameError\u001b[0m: name 'flight_num' is not defined"
     ]
    }
   ],
   "source": [
    "%%time\n",
    "#                                                    montecarlo simulation\n",
    "\n",
    "flight_num = 36\n",
    "sim_time = 10800\n",
    "max_flight_time = 3600\n",
    "ruatm_num = 3\n",
    "bin_size = 9*60 #　秒で記入\n",
    "capa = 1\n",
    "dcb = DCB(np.array([10, 10, 10, 10]))\n",
    "ruatm_id = np.array([0, 1, 2])\n",
    "\n",
    "delay_summary_distributed = np.zeros((0, len(ruatm_id)*3))\n",
    "\n",
    "for i in range(10):\n",
    "    print(i)\n",
    "    f = FlightPlan([0,1,2], sim_time, max_flight_time, flight_num)\n",
    "    fpl_data = f.making_fpl()\n",
    "\n",
    "    ac = ArrCheck(fpl_data, ruatm_num, sim_time)\n",
    "    vport_flight_data, vport_ruatm_data = ac.flight(flight_num)\n",
    "    vport_bin_data = ac.demand_calc(vport_ruatm_data, bin_size)\n",
    "    \n",
    "    #RUATM ABCそれぞれでDCBを実行\n",
    "    delay_ =np.zeros(len(ruatm_id)*3)\n",
    "    delayed_fpl_data_0, delayed_bin_data_0 = dcb.distributed_fcfs(0, capa, sim_time, flight_num, vport_bin_data, bin_size, fpl_data)\n",
    "    delay_[0], delay_[3], delay_[6] = dcb.delay_summary\n",
    "    delayed_fpl_data_1, delayed_bin_data_1 = dcb.distributed_fcfs(1, capa, sim_time, flight_num, vport_bin_data, bin_size, fpl_data)\n",
    "    delay_[1], delay_[4], delay_[7] = dcb.delay_summary\n",
    "    delayed_fpl_data_2, delayed_bin_data_2 = dcb.distributed_fcfs(2, capa, sim_time, flight_num, vport_bin_data, bin_size, fpl_data)\n",
    "    delay_[2], delay_[5], delay_[8] = dcb.delay_summary\n",
    "\n",
    "#     delayed_fpl_data_Dist = fpl_data.copy()\n",
    "#     delayed_fpl_data_Dist = delayed_fpl_data_Dist.where(delayed_fpl_data_Dist[\"dep\"] != 0, delayed_fpl_data_0)\n",
    "#     delayed_fpl_data_Dist = delayed_fpl_data_Dist.where(delayed_fpl_data_Dist[\"dep\"] != 1, delayed_fpl_data_1)\n",
    "#     delayed_fpl_data_Dist = delayed_fpl_data_Dist.where(delayed_fpl_data_Dist[\"dep\"] != 2, delayed_fpl_data_2)\n",
    "\n",
    "#     delayed_ac = ArrCheck(delayed_fpl_data_Dist, ruatm_num, sim_time)\n",
    "#     delayed_vport_flight_data, delayed_vport_ruatm_data = delayed_ac.flight(flight_num)\n",
    "#     delayed_bin_data_Dist = delayed_ac.demand_calc(delayed_vport_ruatm_data, bin_size)\n",
    "    \n",
    "    delay_summary_distributed = np.append(delay_summary_distributed, delay_.reshape(1, len(ruatm_id)*3), axis=0)\n"
   ]
  },
  {
   "cell_type": "code",
   "execution_count": null,
   "id": "caf01de7",
   "metadata": {},
   "outputs": [],
   "source": [
    "#delay 保存\n",
    "# delay_centralized_csv = \"data/delay_summary_centralized\" + f\"_{seed}\" + f\"_result_{datetime.now():%Y%m%d%H%M%S}.csv\"\n",
    "# np.savetxt(delay_centralized_csv, delay_summary_centralized, delimiter=\",\")\n",
    "\n",
    "delay_distributed_csv = \"data/delay_summary_distributed\" + f\"_{seed}\" + f\"_result_{datetime.now():%Y%m%d%H%M%S}.csv\"\n",
    "np.savetxt(delay_distributed_csv, delay_summary_distributed, delimiter=\",\")"
   ]
  }
 ],
 "metadata": {
  "kernelspec": {
   "display_name": "Python 3 (ipykernel)",
   "language": "python",
   "name": "python3"
  },
  "language_info": {
   "codemirror_mode": {
    "name": "ipython",
    "version": 3
   },
   "file_extension": ".py",
   "mimetype": "text/x-python",
   "name": "python",
   "nbconvert_exporter": "python",
   "pygments_lexer": "ipython3",
   "version": "3.10.9"
  }
 },
 "nbformat": 4,
 "nbformat_minor": 5
}
